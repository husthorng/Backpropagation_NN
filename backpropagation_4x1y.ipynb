{
  "cells": [
    {
      "cell_type": "markdown",
      "metadata": {
        "id": "view-in-github",
        "colab_type": "text"
      },
      "source": [
        "<a href=\"https://colab.research.google.com/github/husthorng/Backpropagation_NN/blob/main/backpropagation_4x1y.ipynb\" target=\"_parent\"><img src=\"https://colab.research.google.com/assets/colab-badge.svg\" alt=\"Open In Colab\"/></a>"
      ]
    },
    {
      "cell_type": "code",
      "execution_count": null,
      "metadata": {
        "id": "_rYi2L6lrEAD",
        "colab": {
          "base_uri": "https://localhost:8080/",
          "height": 819
        },
        "outputId": "c23f32bf-bdcf-43d9-ad77-00103f3fbabf"
      },
      "outputs": [
        {
          "output_type": "stream",
          "name": "stdout",
          "text": [
            "Error:0.4477946282344683\n",
            "Error:0.26353446368276207\n",
            "Error:0.13645034441600207\n",
            "Error:0.08073083522990321\n",
            "Error:0.05973535732121917\n",
            "Error:0.04878205649526744\n",
            "Error:0.04195246647618082\n",
            "Error:0.03722708563460629\n",
            "Error:0.03372972224421334\n",
            "Error:0.031016778375762645\n",
            "Error:0.028838406389514428\n",
            "Error:0.027042481358664373\n",
            "Error:0.025530709099570524\n",
            "Error:0.024236535519370724\n",
            "Error:0.023113161778002822\n",
            "Error:0.022126638790964433\n",
            "Error:0.021251687050692098\n",
            "Error:0.020469059686453878\n",
            "Error:0.019763819843622164\n",
            "Error:0.019124181051320195\n",
            "output after Training:\n",
            "[[0.97149626]\n",
            " [0.00864924]\n",
            " [0.98718984]\n",
            " [0.03088548]\n",
            " [0.02187616]\n",
            " [0.99033116]\n",
            " [0.98256959]]\n"
          ]
        },
        {
          "output_type": "display_data",
          "data": {
            "text/plain": [
              "<Figure size 500x300 with 1 Axes>"
            ],
            "image/png": "[encoded data removed]"
          },
          "metadata": {}
        }
      ],
      "source": [
        "import numpy as np\n",
        "import matplotlib\n",
        "import matplotlib.pyplot as plt\n",
        "import csv\n",
        "import pandas as pd\n",
        "\n",
        "def sigmoid(x,deriv=False):\n",
        "    if(deriv==True):\n",
        "        return x*(1-x)\n",
        "\n",
        "    return 1/(1+np.exp(-x))\n",
        "\n",
        "\n",
        "\n",
        "numTag=1   #   輸出的數目\n",
        "nnode=4\n",
        "epochs, epstep=2000,100\n",
        "\n",
        "losses = []\n",
        "R_losses=[]\n",
        "\n",
        "\n",
        "\n",
        "url = \"https://raw.githubusercontent.com/husthorng/Backpropagation_NN/main/exdata4X1y.csv\"\n",
        "records = pd.read_csv(url,encoding='utf-8',header=None)\n",
        "Xi=records.iloc[0:records.shape[0],0:records.shape[1]-numTag].values\n",
        "y=records.iloc[:,list(records.shape[1]-np.arange(numTag,0,-1))].values\n",
        "\n",
        "X=np.insert(Xi,Xi[0].size,1,axis=1)\n",
        "np.random.seed(1)\n",
        "# randomly initialize our weights with mean 0\n",
        "syn0 = 2*np.random.random((X[0].size,nnode)) - 1\n",
        "syn1 = 2*np.random.random((nnode+1,numTag)) - 1\n",
        "\n",
        "for j in range(epochs):\n",
        "\n",
        "\t# Feed forward through layers 0, 1, and 2\n",
        "    l0 = X\n",
        "    l1 = sigmoid(np.dot(l0,syn0))\n",
        "    l1=np.insert(l1,l1[0].size,1,axis=1)\n",
        "    l2 = sigmoid(np.dot(l1,syn1))\n",
        "\n",
        "    # how much did we miss the target value?\n",
        "    l2_error = y - l2\n",
        "\n",
        "    if (j% epstep) == 0:\n",
        "      losses.append(np.mean(np.abs(l2_error)))\n",
        "      R_losses.append(j)\n",
        "      print(\"Error:\" + str(np.mean(np.abs(l2_error))))\n",
        "\n",
        "    # in what direction is the target value?\n",
        "    # were we really sure? if so, don't change too much.\n",
        "    l2_delta = l2_error*sigmoid(l2,deriv=True)\n",
        "\n",
        "    # how much did each l1 value contribute to the l2 error (according to the weights)?\n",
        "    l1_error = l2_delta.dot(syn1.T)\n",
        "\n",
        "    # in what direction is the target l1?\n",
        "    # were we really sure? if so, don't change too much.\n",
        "    l1_delta = l1_error * sigmoid(l1,deriv=True)\n",
        "\n",
        "    syn1 += l1.T.dot(l2_delta)\n",
        "    syn0 += l0.T.dot(l1_delta)[:,:-1]\n",
        "\n",
        "#print output\n",
        "print(\"output after Training:\")\n",
        "print(l2)\n",
        "\n",
        "fig, ax = plt.subplots(figsize=(5, 3))\n",
        "ax.scatter(R_losses, losses)\n",
        "#plt.scatter(R_losses, losses)\n",
        "plt.title('Training Loss')\n",
        "plt.xlabel('Epoch')\n",
        "plt.ylabel('Loss')\n",
        "plt.show()"
      ]
    },
    {
      "cell_type": "code",
      "source": [
        "urltest = \"https://raw.githubusercontent.com/husthorng/Backpropagation_NN/main/data4X2y1.csv\"\n",
        "records = pd.read_csv(url,encoding='utf-8',header=None)\n",
        "Xi=records.iloc[0:records.shape[0],0:records.shape[1]-numTag].values\n",
        "y=records.iloc[:,list(records.shape[1]-np.arange(numTag,0,-1))].values\n",
        "X=np.insert(Xi,Xi[0].size,1,axis=1)\n",
        "l0 = X\n",
        "l1 = sigmoid(np.dot(l0,syn0))\n",
        "l1=np.insert(l1,l1[0].size,1,axis=1)\n",
        "l2 = sigmoid(np.dot(l1,syn1))\n",
        "fig, ax1 = plt.subplots(figsize=(5, 5))\n",
        "ax1.scatter(y[:,0], l2[:,0],color = \"blue\")\n",
        "plt.title('')\n",
        "plt.xlabel('Target')\n",
        "plt.ylabel('Predict.')\n",
        "plt.show()"
      ],
      "metadata": {
        "colab": {
          "base_uri": "https://localhost:8080/",
          "height": 465
        },
        "id": "xIKecd5koVD3",
        "outputId": "dfa662bf-b791-4640-cbe9-729f2ecde6d0"
      },
      "execution_count": null,
      "outputs": [
        {
          "output_type": "display_data",
          "data": {
            "text/plain": [
              "<Figure size 500x500 with 1 Axes>"
            ],
            "image/png": "[encoded data removed]"
          },
          "metadata": {}
        }
      ]
    },
    {
      "cell_type": "code",
      "source": [
        "syn1"
      ],
      "metadata": {
        "colab": {
          "base_uri": "https://localhost:8080/"
        },
        "id": "0aPu_87qmz3h",
        "outputId": "94bd89d1-3d62-4dc9-cda2-dd6ec059cd36"
      },
      "execution_count": null,
      "outputs": [
        {
          "output_type": "execute_result",
          "data": {
            "text/plain": [
              "array([[  3.19787556],\n",
              "       [ 12.23544219],\n",
              "       [-12.64151003],\n",
              "       [ -3.8237726 ],\n",
              "       [ -2.61913888]])"
            ]
          },
          "metadata": {},
          "execution_count": 35
        }
      ]
    }
  ],
  "metadata": {
    "kernelspec": {
      "display_name": "Python 3",
      "language": "python",
      "name": "python3"
    },
    "language_info": {
      "codemirror_mode": {
        "name": "ipython",
        "version": 3
      },
      "file_extension": ".py",
      "mimetype": "text/x-python",
      "name": "python",
      "nbconvert_exporter": "python",
      "pygments_lexer": "ipython3",
      "version": "3.7.6"
    },
    "colab": {
      "provenance": [],
      "include_colab_link": true
    }
  },
  "nbformat": 4,
  "nbformat_minor": 0
}