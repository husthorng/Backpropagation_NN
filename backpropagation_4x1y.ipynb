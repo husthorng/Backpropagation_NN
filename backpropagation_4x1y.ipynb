{
  "cells": [
    {
      "cell_type": "markdown",
      "metadata": {
        "id": "view-in-github",
        "colab_type": "text"
      },
      "source": [
        "<a href=\"https://colab.research.google.com/github/husthorng/Backpropagation_NN/blob/main/backpropagation_4x1y.ipynb\" target=\"_parent\"><img src=\"https://colab.research.google.com/assets/colab-badge.svg\" alt=\"Open In Colab\"/></a>"
      ]
    },
    {
      "cell_type": "code",
      "execution_count": null,
      "metadata": {
        "id": "_rYi2L6lrEAD",
        "colab": {
          "base_uri": "https://localhost:8080/"
        },
        "outputId": "806edd4f-ace0-4ef5-e238-dc5a26a90a03"
      },
      "outputs": [
        {
          "output_type": "stream",
          "name": "stdout",
          "text": [
            "Error:0.4477946282344683\n",
            "Error:0.0075239768071326185\n",
            "Error:0.00521795987206721\n",
            "Error:0.0042246520914848516\n",
            "Error:0.00364019793220164\n",
            "Error:0.003244530501107492\n",
            "output after Training:\n",
            "[[0.99530571]\n",
            " [0.00156105]\n",
            " [0.99774898]\n",
            " [0.00478684]\n",
            " [0.00364312]\n",
            " [0.9987647 ]\n",
            " [0.99749282]]\n"
          ]
        }
      ],
      "source": [
        "import numpy as np\n",
        "\n",
        "def nonlin(x,deriv=False):\n",
        "    if(deriv==True):\n",
        "        return x*(1-x)\n",
        "\n",
        "    return 1/(1+np.exp(-x))\n",
        "\n",
        "import csv\n",
        "import pandas as pd\n",
        "\n",
        "numTag=1   #   輸出的數目\n",
        "nnode=4\n",
        "url = \"exdata4X1y.csv\"\n",
        "records = pd.read_csv(url,encoding='utf-8',header=None)\n",
        "Xi=records.iloc[0:records.shape[0],0:records.shape[1]-numTag].values\n",
        "y=records.iloc[:,list(records.shape[1]-np.arange(numTag,0,-1))].values\n",
        "\n",
        "X=np.insert(Xi,Xi[0].size,1,axis=1)\n",
        "np.random.seed(1)\n",
        "# randomly initialize our weights with mean 0\n",
        "syn0 = 2*np.random.random((X[0].size,nnode)) - 1\n",
        "syn1 = 2*np.random.random((nnode+1,numTag)) - 1\n",
        "\n",
        "for j in range(60000):\n",
        "\n",
        "\t# Feed forward through layers 0, 1, and 2\n",
        "    l0 = X\n",
        "    l1 = nonlin(np.dot(l0,syn0))\n",
        "    l1=np.insert(l1,l1[0].size,1,axis=1)\n",
        "    l2 = nonlin(np.dot(l1,syn1))\n",
        "\n",
        "    # how much did we miss the target value?\n",
        "    l2_error = y - l2\n",
        "\n",
        "    if (j% 10000) == 0:\n",
        "        print(\"Error:\" + str(np.mean(np.abs(l2_error))))\n",
        "\n",
        "    # in what direction is the target value?\n",
        "    # were we really sure? if so, don't change too much.\n",
        "    l2_delta = l2_error*nonlin(l2,deriv=True)\n",
        "\n",
        "    # how much did each l1 value contribute to the l2 error (according to the weights)?\n",
        "    l1_error = l2_delta.dot(syn1.T)\n",
        "\n",
        "    # in what direction is the target l1?\n",
        "    # were we really sure? if so, don't change too much.\n",
        "    l1_delta = l1_error * nonlin(l1,deriv=True)\n",
        "\n",
        "    syn1 += l1.T.dot(l2_delta)\n",
        "    syn0 += l0.T.dot(l1_delta)[:,:-1]\n",
        "\n",
        "#print output\n",
        "print(\"output after Training:\")\n",
        "print(l2)"
      ]
    },
    {
      "cell_type": "code",
      "source": [
        "syn0"
      ],
      "metadata": {
        "colab": {
          "base_uri": "https://localhost:8080/"
        },
        "id": "xIKecd5koVD3",
        "outputId": "491c7007-f298-43f3-d948-fabbe5737805"
      },
      "execution_count": null,
      "outputs": [
        {
          "output_type": "execute_result",
          "data": {
            "text/plain": [
              "array([[ 2.46369755, -0.07387711, -5.45829067, -1.1241206 ],\n",
              "       [-0.59686426, -6.12266817, -1.30806974,  0.6301363 ],\n",
              "       [-1.96885316,  1.3139501 ,  2.33120362,  2.09189883],\n",
              "       [-2.53878217, -4.75064777, -7.545376  ,  1.33353025],\n",
              "       [-0.08084971,  6.8113164 ,  1.09097013, -0.14344953]])"
            ]
          },
          "metadata": {},
          "execution_count": 34
        }
      ]
    },
    {
      "cell_type": "code",
      "source": [
        "syn1"
      ],
      "metadata": {
        "colab": {
          "base_uri": "https://localhost:8080/"
        },
        "id": "0aPu_87qmz3h",
        "outputId": "94bd89d1-3d62-4dc9-cda2-dd6ec059cd36"
      },
      "execution_count": null,
      "outputs": [
        {
          "output_type": "execute_result",
          "data": {
            "text/plain": [
              "array([[  3.19787556],\n",
              "       [ 12.23544219],\n",
              "       [-12.64151003],\n",
              "       [ -3.8237726 ],\n",
              "       [ -2.61913888]])"
            ]
          },
          "metadata": {},
          "execution_count": 35
        }
      ]
    }
  ],
  "metadata": {
    "kernelspec": {
      "display_name": "Python 3",
      "language": "python",
      "name": "python3"
    },
    "language_info": {
      "codemirror_mode": {
        "name": "ipython",
        "version": 3
      },
      "file_extension": ".py",
      "mimetype": "text/x-python",
      "name": "python",
      "nbconvert_exporter": "python",
      "pygments_lexer": "ipython3",
      "version": "3.7.6"
    },
    "colab": {
      "provenance": [],
      "include_colab_link": true
    }
  },
  "nbformat": 4,
  "nbformat_minor": 0
}